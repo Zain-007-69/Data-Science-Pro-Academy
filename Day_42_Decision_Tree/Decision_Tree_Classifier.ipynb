{
 "cells": [
  {
   "cell_type": "markdown",
   "metadata": {},
   "source": [
    "# **Decision Tree Classifier**"
   ]
  },
  {
   "cell_type": "markdown",
   "metadata": {},
   "source": [
    "## **Importing Libararies**"
   ]
  },
  {
   "cell_type": "code",
   "execution_count": 2,
   "metadata": {},
   "outputs": [],
   "source": [
    "import numpy as np\n",
    "import pandas as pd\n",
    "from sklearn.model_selection import train_test_split\n",
    "from sklearn.impute import SimpleImputer\n",
    "from sklearn.preprocessing import MinMaxScaler, OrdinalEncoder, LabelEncoder, OneHotEncoder\n",
    "from sklearn.pipeline import Pipeline, make_pipeline\n",
    "from sklearn.compose import ColumnTransformer\n",
    "from sklearn.tree import DecisionTreeClassifier\n",
    "from sklearn.metrics import accuracy_score, classification_report"
   ]
  },
  {
   "cell_type": "markdown",
   "metadata": {},
   "source": [
    "## **Data Overview**"
   ]
  },
  {
   "cell_type": "code",
   "execution_count": 3,
   "metadata": {},
   "outputs": [
    {
     "data": {
      "text/html": [
       "<div>\n",
       "<style scoped>\n",
       "    .dataframe tbody tr th:only-of-type {\n",
       "        vertical-align: middle;\n",
       "    }\n",
       "\n",
       "    .dataframe tbody tr th {\n",
       "        vertical-align: top;\n",
       "    }\n",
       "\n",
       "    .dataframe thead th {\n",
       "        text-align: right;\n",
       "    }\n",
       "</style>\n",
       "<table border=\"1\" class=\"dataframe\">\n",
       "  <thead>\n",
       "    <tr style=\"text-align: right;\">\n",
       "      <th></th>\n",
       "      <th>Age</th>\n",
       "      <th>Gender</th>\n",
       "      <th>Smoking</th>\n",
       "      <th>Hx Smoking</th>\n",
       "      <th>Hx Radiothreapy</th>\n",
       "      <th>Thyroid Function</th>\n",
       "      <th>Physical Examination</th>\n",
       "      <th>Adenopathy</th>\n",
       "      <th>Pathology</th>\n",
       "      <th>Focality</th>\n",
       "      <th>Risk</th>\n",
       "      <th>T</th>\n",
       "      <th>N</th>\n",
       "      <th>M</th>\n",
       "      <th>Stage</th>\n",
       "      <th>Response</th>\n",
       "      <th>Recurred</th>\n",
       "    </tr>\n",
       "  </thead>\n",
       "  <tbody>\n",
       "    <tr>\n",
       "      <th>0</th>\n",
       "      <td>27</td>\n",
       "      <td>F</td>\n",
       "      <td>No</td>\n",
       "      <td>No</td>\n",
       "      <td>No</td>\n",
       "      <td>Euthyroid</td>\n",
       "      <td>Single nodular goiter-left</td>\n",
       "      <td>No</td>\n",
       "      <td>Micropapillary</td>\n",
       "      <td>Uni-Focal</td>\n",
       "      <td>Low</td>\n",
       "      <td>T1a</td>\n",
       "      <td>N0</td>\n",
       "      <td>M0</td>\n",
       "      <td>I</td>\n",
       "      <td>Indeterminate</td>\n",
       "      <td>No</td>\n",
       "    </tr>\n",
       "    <tr>\n",
       "      <th>1</th>\n",
       "      <td>34</td>\n",
       "      <td>F</td>\n",
       "      <td>No</td>\n",
       "      <td>Yes</td>\n",
       "      <td>No</td>\n",
       "      <td>Euthyroid</td>\n",
       "      <td>Multinodular goiter</td>\n",
       "      <td>No</td>\n",
       "      <td>Micropapillary</td>\n",
       "      <td>Uni-Focal</td>\n",
       "      <td>Low</td>\n",
       "      <td>T1a</td>\n",
       "      <td>N0</td>\n",
       "      <td>M0</td>\n",
       "      <td>I</td>\n",
       "      <td>Excellent</td>\n",
       "      <td>No</td>\n",
       "    </tr>\n",
       "    <tr>\n",
       "      <th>2</th>\n",
       "      <td>30</td>\n",
       "      <td>F</td>\n",
       "      <td>No</td>\n",
       "      <td>No</td>\n",
       "      <td>No</td>\n",
       "      <td>Euthyroid</td>\n",
       "      <td>Single nodular goiter-right</td>\n",
       "      <td>No</td>\n",
       "      <td>Micropapillary</td>\n",
       "      <td>Uni-Focal</td>\n",
       "      <td>Low</td>\n",
       "      <td>T1a</td>\n",
       "      <td>N0</td>\n",
       "      <td>M0</td>\n",
       "      <td>I</td>\n",
       "      <td>Excellent</td>\n",
       "      <td>No</td>\n",
       "    </tr>\n",
       "    <tr>\n",
       "      <th>3</th>\n",
       "      <td>62</td>\n",
       "      <td>F</td>\n",
       "      <td>No</td>\n",
       "      <td>No</td>\n",
       "      <td>No</td>\n",
       "      <td>Euthyroid</td>\n",
       "      <td>Single nodular goiter-right</td>\n",
       "      <td>No</td>\n",
       "      <td>Micropapillary</td>\n",
       "      <td>Uni-Focal</td>\n",
       "      <td>Low</td>\n",
       "      <td>T1a</td>\n",
       "      <td>N0</td>\n",
       "      <td>M0</td>\n",
       "      <td>I</td>\n",
       "      <td>Excellent</td>\n",
       "      <td>No</td>\n",
       "    </tr>\n",
       "    <tr>\n",
       "      <th>4</th>\n",
       "      <td>62</td>\n",
       "      <td>F</td>\n",
       "      <td>No</td>\n",
       "      <td>No</td>\n",
       "      <td>No</td>\n",
       "      <td>Euthyroid</td>\n",
       "      <td>Multinodular goiter</td>\n",
       "      <td>No</td>\n",
       "      <td>Micropapillary</td>\n",
       "      <td>Multi-Focal</td>\n",
       "      <td>Low</td>\n",
       "      <td>T1a</td>\n",
       "      <td>N0</td>\n",
       "      <td>M0</td>\n",
       "      <td>I</td>\n",
       "      <td>Excellent</td>\n",
       "      <td>No</td>\n",
       "    </tr>\n",
       "  </tbody>\n",
       "</table>\n",
       "</div>"
      ],
      "text/plain": [
       "   Age Gender Smoking Hx Smoking Hx Radiothreapy Thyroid Function  \\\n",
       "0   27      F      No         No              No        Euthyroid   \n",
       "1   34      F      No        Yes              No        Euthyroid   \n",
       "2   30      F      No         No              No        Euthyroid   \n",
       "3   62      F      No         No              No        Euthyroid   \n",
       "4   62      F      No         No              No        Euthyroid   \n",
       "\n",
       "          Physical Examination Adenopathy       Pathology     Focality Risk  \\\n",
       "0   Single nodular goiter-left         No  Micropapillary    Uni-Focal  Low   \n",
       "1          Multinodular goiter         No  Micropapillary    Uni-Focal  Low   \n",
       "2  Single nodular goiter-right         No  Micropapillary    Uni-Focal  Low   \n",
       "3  Single nodular goiter-right         No  Micropapillary    Uni-Focal  Low   \n",
       "4          Multinodular goiter         No  Micropapillary  Multi-Focal  Low   \n",
       "\n",
       "     T   N   M Stage       Response Recurred  \n",
       "0  T1a  N0  M0     I  Indeterminate       No  \n",
       "1  T1a  N0  M0     I      Excellent       No  \n",
       "2  T1a  N0  M0     I      Excellent       No  \n",
       "3  T1a  N0  M0     I      Excellent       No  \n",
       "4  T1a  N0  M0     I      Excellent       No  "
      ]
     },
     "execution_count": 3,
     "metadata": {},
     "output_type": "execute_result"
    }
   ],
   "source": [
    "df = pd.read_csv('Thyroid_Diff.csv')\n",
    "df.head()"
   ]
  },
  {
   "cell_type": "code",
   "execution_count": 4,
   "metadata": {},
   "outputs": [
    {
     "data": {
      "text/plain": [
       "Index(['Age', 'Gender', 'Smoking', 'Hx Smoking', 'Hx Radiothreapy',\n",
       "       'Thyroid Function', 'Physical Examination', 'Adenopathy', 'Pathology',\n",
       "       'Focality', 'Risk', 'T', 'N', 'M', 'Stage', 'Response', 'Recurred'],\n",
       "      dtype='object')"
      ]
     },
     "execution_count": 4,
     "metadata": {},
     "output_type": "execute_result"
    }
   ],
   "source": [
    "df.columns"
   ]
  },
  {
   "cell_type": "code",
   "execution_count": 5,
   "metadata": {},
   "outputs": [
    {
     "data": {
      "text/plain": [
       "Age                     0\n",
       "Gender                  0\n",
       "Smoking                 0\n",
       "Hx Smoking              0\n",
       "Hx Radiothreapy         0\n",
       "Thyroid Function        0\n",
       "Physical Examination    0\n",
       "Adenopathy              0\n",
       "Pathology               0\n",
       "Focality                0\n",
       "Risk                    0\n",
       "T                       0\n",
       "N                       0\n",
       "M                       0\n",
       "Stage                   0\n",
       "Response                0\n",
       "Recurred                0\n",
       "dtype: int64"
      ]
     },
     "execution_count": 5,
     "metadata": {},
     "output_type": "execute_result"
    }
   ],
   "source": [
    "df.isnull().sum()"
   ]
  },
  {
   "cell_type": "code",
   "execution_count": 6,
   "metadata": {},
   "outputs": [
    {
     "data": {
      "text/html": [
       "<div>\n",
       "<style scoped>\n",
       "    .dataframe tbody tr th:only-of-type {\n",
       "        vertical-align: middle;\n",
       "    }\n",
       "\n",
       "    .dataframe tbody tr th {\n",
       "        vertical-align: top;\n",
       "    }\n",
       "\n",
       "    .dataframe thead th {\n",
       "        text-align: right;\n",
       "    }\n",
       "</style>\n",
       "<table border=\"1\" class=\"dataframe\">\n",
       "  <thead>\n",
       "    <tr style=\"text-align: right;\">\n",
       "      <th></th>\n",
       "      <th>Age</th>\n",
       "      <th>Gender</th>\n",
       "      <th>Smoking</th>\n",
       "      <th>Hx Smoking</th>\n",
       "      <th>Hx Radiothreapy</th>\n",
       "      <th>Thyroid Function</th>\n",
       "      <th>Physical Examination</th>\n",
       "      <th>Adenopathy</th>\n",
       "      <th>Pathology</th>\n",
       "      <th>Focality</th>\n",
       "      <th>Risk</th>\n",
       "      <th>T</th>\n",
       "      <th>N</th>\n",
       "      <th>M</th>\n",
       "      <th>Stage</th>\n",
       "      <th>Response</th>\n",
       "      <th>Recurred</th>\n",
       "    </tr>\n",
       "  </thead>\n",
       "  <tbody>\n",
       "    <tr>\n",
       "      <th>count</th>\n",
       "      <td>383.000000</td>\n",
       "      <td>383</td>\n",
       "      <td>383</td>\n",
       "      <td>383</td>\n",
       "      <td>383</td>\n",
       "      <td>383</td>\n",
       "      <td>383</td>\n",
       "      <td>383</td>\n",
       "      <td>383</td>\n",
       "      <td>383</td>\n",
       "      <td>383</td>\n",
       "      <td>383</td>\n",
       "      <td>383</td>\n",
       "      <td>383</td>\n",
       "      <td>383</td>\n",
       "      <td>383</td>\n",
       "      <td>383</td>\n",
       "    </tr>\n",
       "    <tr>\n",
       "      <th>unique</th>\n",
       "      <td>NaN</td>\n",
       "      <td>2</td>\n",
       "      <td>2</td>\n",
       "      <td>2</td>\n",
       "      <td>2</td>\n",
       "      <td>5</td>\n",
       "      <td>5</td>\n",
       "      <td>6</td>\n",
       "      <td>4</td>\n",
       "      <td>2</td>\n",
       "      <td>3</td>\n",
       "      <td>7</td>\n",
       "      <td>3</td>\n",
       "      <td>2</td>\n",
       "      <td>5</td>\n",
       "      <td>4</td>\n",
       "      <td>2</td>\n",
       "    </tr>\n",
       "    <tr>\n",
       "      <th>top</th>\n",
       "      <td>NaN</td>\n",
       "      <td>F</td>\n",
       "      <td>No</td>\n",
       "      <td>No</td>\n",
       "      <td>No</td>\n",
       "      <td>Euthyroid</td>\n",
       "      <td>Multinodular goiter</td>\n",
       "      <td>No</td>\n",
       "      <td>Papillary</td>\n",
       "      <td>Uni-Focal</td>\n",
       "      <td>Low</td>\n",
       "      <td>T2</td>\n",
       "      <td>N0</td>\n",
       "      <td>M0</td>\n",
       "      <td>I</td>\n",
       "      <td>Excellent</td>\n",
       "      <td>No</td>\n",
       "    </tr>\n",
       "    <tr>\n",
       "      <th>freq</th>\n",
       "      <td>NaN</td>\n",
       "      <td>312</td>\n",
       "      <td>334</td>\n",
       "      <td>355</td>\n",
       "      <td>376</td>\n",
       "      <td>332</td>\n",
       "      <td>140</td>\n",
       "      <td>277</td>\n",
       "      <td>287</td>\n",
       "      <td>247</td>\n",
       "      <td>249</td>\n",
       "      <td>151</td>\n",
       "      <td>268</td>\n",
       "      <td>365</td>\n",
       "      <td>333</td>\n",
       "      <td>208</td>\n",
       "      <td>275</td>\n",
       "    </tr>\n",
       "    <tr>\n",
       "      <th>mean</th>\n",
       "      <td>40.866841</td>\n",
       "      <td>NaN</td>\n",
       "      <td>NaN</td>\n",
       "      <td>NaN</td>\n",
       "      <td>NaN</td>\n",
       "      <td>NaN</td>\n",
       "      <td>NaN</td>\n",
       "      <td>NaN</td>\n",
       "      <td>NaN</td>\n",
       "      <td>NaN</td>\n",
       "      <td>NaN</td>\n",
       "      <td>NaN</td>\n",
       "      <td>NaN</td>\n",
       "      <td>NaN</td>\n",
       "      <td>NaN</td>\n",
       "      <td>NaN</td>\n",
       "      <td>NaN</td>\n",
       "    </tr>\n",
       "    <tr>\n",
       "      <th>std</th>\n",
       "      <td>15.134494</td>\n",
       "      <td>NaN</td>\n",
       "      <td>NaN</td>\n",
       "      <td>NaN</td>\n",
       "      <td>NaN</td>\n",
       "      <td>NaN</td>\n",
       "      <td>NaN</td>\n",
       "      <td>NaN</td>\n",
       "      <td>NaN</td>\n",
       "      <td>NaN</td>\n",
       "      <td>NaN</td>\n",
       "      <td>NaN</td>\n",
       "      <td>NaN</td>\n",
       "      <td>NaN</td>\n",
       "      <td>NaN</td>\n",
       "      <td>NaN</td>\n",
       "      <td>NaN</td>\n",
       "    </tr>\n",
       "    <tr>\n",
       "      <th>min</th>\n",
       "      <td>15.000000</td>\n",
       "      <td>NaN</td>\n",
       "      <td>NaN</td>\n",
       "      <td>NaN</td>\n",
       "      <td>NaN</td>\n",
       "      <td>NaN</td>\n",
       "      <td>NaN</td>\n",
       "      <td>NaN</td>\n",
       "      <td>NaN</td>\n",
       "      <td>NaN</td>\n",
       "      <td>NaN</td>\n",
       "      <td>NaN</td>\n",
       "      <td>NaN</td>\n",
       "      <td>NaN</td>\n",
       "      <td>NaN</td>\n",
       "      <td>NaN</td>\n",
       "      <td>NaN</td>\n",
       "    </tr>\n",
       "    <tr>\n",
       "      <th>25%</th>\n",
       "      <td>29.000000</td>\n",
       "      <td>NaN</td>\n",
       "      <td>NaN</td>\n",
       "      <td>NaN</td>\n",
       "      <td>NaN</td>\n",
       "      <td>NaN</td>\n",
       "      <td>NaN</td>\n",
       "      <td>NaN</td>\n",
       "      <td>NaN</td>\n",
       "      <td>NaN</td>\n",
       "      <td>NaN</td>\n",
       "      <td>NaN</td>\n",
       "      <td>NaN</td>\n",
       "      <td>NaN</td>\n",
       "      <td>NaN</td>\n",
       "      <td>NaN</td>\n",
       "      <td>NaN</td>\n",
       "    </tr>\n",
       "    <tr>\n",
       "      <th>50%</th>\n",
       "      <td>37.000000</td>\n",
       "      <td>NaN</td>\n",
       "      <td>NaN</td>\n",
       "      <td>NaN</td>\n",
       "      <td>NaN</td>\n",
       "      <td>NaN</td>\n",
       "      <td>NaN</td>\n",
       "      <td>NaN</td>\n",
       "      <td>NaN</td>\n",
       "      <td>NaN</td>\n",
       "      <td>NaN</td>\n",
       "      <td>NaN</td>\n",
       "      <td>NaN</td>\n",
       "      <td>NaN</td>\n",
       "      <td>NaN</td>\n",
       "      <td>NaN</td>\n",
       "      <td>NaN</td>\n",
       "    </tr>\n",
       "    <tr>\n",
       "      <th>75%</th>\n",
       "      <td>51.000000</td>\n",
       "      <td>NaN</td>\n",
       "      <td>NaN</td>\n",
       "      <td>NaN</td>\n",
       "      <td>NaN</td>\n",
       "      <td>NaN</td>\n",
       "      <td>NaN</td>\n",
       "      <td>NaN</td>\n",
       "      <td>NaN</td>\n",
       "      <td>NaN</td>\n",
       "      <td>NaN</td>\n",
       "      <td>NaN</td>\n",
       "      <td>NaN</td>\n",
       "      <td>NaN</td>\n",
       "      <td>NaN</td>\n",
       "      <td>NaN</td>\n",
       "      <td>NaN</td>\n",
       "    </tr>\n",
       "    <tr>\n",
       "      <th>max</th>\n",
       "      <td>82.000000</td>\n",
       "      <td>NaN</td>\n",
       "      <td>NaN</td>\n",
       "      <td>NaN</td>\n",
       "      <td>NaN</td>\n",
       "      <td>NaN</td>\n",
       "      <td>NaN</td>\n",
       "      <td>NaN</td>\n",
       "      <td>NaN</td>\n",
       "      <td>NaN</td>\n",
       "      <td>NaN</td>\n",
       "      <td>NaN</td>\n",
       "      <td>NaN</td>\n",
       "      <td>NaN</td>\n",
       "      <td>NaN</td>\n",
       "      <td>NaN</td>\n",
       "      <td>NaN</td>\n",
       "    </tr>\n",
       "  </tbody>\n",
       "</table>\n",
       "</div>"
      ],
      "text/plain": [
       "               Age Gender Smoking Hx Smoking Hx Radiothreapy Thyroid Function  \\\n",
       "count   383.000000    383     383        383             383              383   \n",
       "unique         NaN      2       2          2               2                5   \n",
       "top            NaN      F      No         No              No        Euthyroid   \n",
       "freq           NaN    312     334        355             376              332   \n",
       "mean     40.866841    NaN     NaN        NaN             NaN              NaN   \n",
       "std      15.134494    NaN     NaN        NaN             NaN              NaN   \n",
       "min      15.000000    NaN     NaN        NaN             NaN              NaN   \n",
       "25%      29.000000    NaN     NaN        NaN             NaN              NaN   \n",
       "50%      37.000000    NaN     NaN        NaN             NaN              NaN   \n",
       "75%      51.000000    NaN     NaN        NaN             NaN              NaN   \n",
       "max      82.000000    NaN     NaN        NaN             NaN              NaN   \n",
       "\n",
       "       Physical Examination Adenopathy  Pathology   Focality Risk    T    N  \\\n",
       "count                   383        383        383        383  383  383  383   \n",
       "unique                    5          6          4          2    3    7    3   \n",
       "top     Multinodular goiter         No  Papillary  Uni-Focal  Low   T2   N0   \n",
       "freq                    140        277        287        247  249  151  268   \n",
       "mean                    NaN        NaN        NaN        NaN  NaN  NaN  NaN   \n",
       "std                     NaN        NaN        NaN        NaN  NaN  NaN  NaN   \n",
       "min                     NaN        NaN        NaN        NaN  NaN  NaN  NaN   \n",
       "25%                     NaN        NaN        NaN        NaN  NaN  NaN  NaN   \n",
       "50%                     NaN        NaN        NaN        NaN  NaN  NaN  NaN   \n",
       "75%                     NaN        NaN        NaN        NaN  NaN  NaN  NaN   \n",
       "max                     NaN        NaN        NaN        NaN  NaN  NaN  NaN   \n",
       "\n",
       "          M Stage   Response Recurred  \n",
       "count   383   383        383      383  \n",
       "unique    2     5          4        2  \n",
       "top      M0     I  Excellent       No  \n",
       "freq    365   333        208      275  \n",
       "mean    NaN   NaN        NaN      NaN  \n",
       "std     NaN   NaN        NaN      NaN  \n",
       "min     NaN   NaN        NaN      NaN  \n",
       "25%     NaN   NaN        NaN      NaN  \n",
       "50%     NaN   NaN        NaN      NaN  \n",
       "75%     NaN   NaN        NaN      NaN  \n",
       "max     NaN   NaN        NaN      NaN  "
      ]
     },
     "execution_count": 6,
     "metadata": {},
     "output_type": "execute_result"
    }
   ],
   "source": [
    "df.describe(include='all')"
   ]
  },
  {
   "cell_type": "code",
   "execution_count": 7,
   "metadata": {},
   "outputs": [
    {
     "name": "stdout",
     "output_type": "stream",
     "text": [
      "<class 'pandas.core.frame.DataFrame'>\n",
      "RangeIndex: 383 entries, 0 to 382\n",
      "Data columns (total 17 columns):\n",
      " #   Column                Non-Null Count  Dtype \n",
      "---  ------                --------------  ----- \n",
      " 0   Age                   383 non-null    int64 \n",
      " 1   Gender                383 non-null    object\n",
      " 2   Smoking               383 non-null    object\n",
      " 3   Hx Smoking            383 non-null    object\n",
      " 4   Hx Radiothreapy       383 non-null    object\n",
      " 5   Thyroid Function      383 non-null    object\n",
      " 6   Physical Examination  383 non-null    object\n",
      " 7   Adenopathy            383 non-null    object\n",
      " 8   Pathology             383 non-null    object\n",
      " 9   Focality              383 non-null    object\n",
      " 10  Risk                  383 non-null    object\n",
      " 11  T                     383 non-null    object\n",
      " 12  N                     383 non-null    object\n",
      " 13  M                     383 non-null    object\n",
      " 14  Stage                 383 non-null    object\n",
      " 15  Response              383 non-null    object\n",
      " 16  Recurred              383 non-null    object\n",
      "dtypes: int64(1), object(16)\n",
      "memory usage: 51.0+ KB\n"
     ]
    }
   ],
   "source": [
    "df.info()"
   ]
  },
  {
   "cell_type": "code",
   "execution_count": 8,
   "metadata": {},
   "outputs": [
    {
     "data": {
      "text/plain": [
       "Recurred\n",
       "No     275\n",
       "Yes    108\n",
       "Name: count, dtype: int64"
      ]
     },
     "execution_count": 8,
     "metadata": {},
     "output_type": "execute_result"
    }
   ],
   "source": [
    "df['Recurred'].value_counts()"
   ]
  },
  {
   "cell_type": "code",
   "execution_count": 9,
   "metadata": {},
   "outputs": [],
   "source": [
    "numerical_columns = df.select_dtypes(include=['number']).columns.tolist()\n",
    "categorical_columns = df.select_dtypes(exclude=['number']).columns.tolist()"
   ]
  },
  {
   "cell_type": "code",
   "execution_count": 10,
   "metadata": {},
   "outputs": [
    {
     "data": {
      "text/plain": [
       "['Age']"
      ]
     },
     "execution_count": 10,
     "metadata": {},
     "output_type": "execute_result"
    }
   ],
   "source": [
    "numerical_columns"
   ]
  },
  {
   "cell_type": "code",
   "execution_count": 11,
   "metadata": {},
   "outputs": [
    {
     "data": {
      "text/plain": [
       "['Gender',\n",
       " 'Smoking',\n",
       " 'Hx Smoking',\n",
       " 'Hx Radiothreapy',\n",
       " 'Thyroid Function',\n",
       " 'Physical Examination',\n",
       " 'Adenopathy',\n",
       " 'Pathology',\n",
       " 'Focality',\n",
       " 'Risk',\n",
       " 'T',\n",
       " 'N',\n",
       " 'M',\n",
       " 'Stage',\n",
       " 'Response',\n",
       " 'Recurred']"
      ]
     },
     "execution_count": 11,
     "metadata": {},
     "output_type": "execute_result"
    }
   ],
   "source": [
    "categorical_columns"
   ]
  },
  {
   "cell_type": "code",
   "execution_count": 12,
   "metadata": {},
   "outputs": [],
   "source": [
    "categorical_columns = np.delete(categorical_columns, len(categorical_columns)-1)"
   ]
  },
  {
   "cell_type": "markdown",
   "metadata": {},
   "source": [
    "## **Train Test Split**"
   ]
  },
  {
   "cell_type": "code",
   "execution_count": 13,
   "metadata": {},
   "outputs": [],
   "source": [
    "X_train, X_test, y_train, y_test = train_test_split(df.drop(columns=['Recurred']), df['Recurred'], \n",
    "                                                    test_size=0.2, \n",
    "                                                    random_state=42)"
   ]
  },
  {
   "cell_type": "markdown",
   "metadata": {},
   "source": [
    "## **Preprocessing Data**"
   ]
  },
  {
   "cell_type": "code",
   "execution_count": 14,
   "metadata": {},
   "outputs": [],
   "source": [
    "handle_numerical = Pipeline(steps=[\n",
    "    ('impute_numerical', SimpleImputer(strategy='mean'))\n",
    "])"
   ]
  },
  {
   "cell_type": "code",
   "execution_count": 15,
   "metadata": {},
   "outputs": [],
   "source": [
    "handle_categorical = Pipeline(steps=[\n",
    "    ('impute_numerical', SimpleImputer(strategy='most_frequent')),\n",
    "    ('encode_categorical', OrdinalEncoder())\n",
    "])"
   ]
  },
  {
   "cell_type": "code",
   "execution_count": 16,
   "metadata": {},
   "outputs": [],
   "source": [
    "preprocessing = ColumnTransformer(transformers=[\n",
    "    ('numerical', handle_numerical, numerical_columns),\n",
    "    ('categorical', handle_categorical, categorical_columns)\n",
    "], remainder='passthrough')"
   ]
  },
  {
   "cell_type": "markdown",
   "metadata": {},
   "source": [
    "## **Model**"
   ]
  },
  {
   "cell_type": "code",
   "execution_count": 17,
   "metadata": {},
   "outputs": [],
   "source": [
    "model_dt = DecisionTreeClassifier()"
   ]
  },
  {
   "cell_type": "code",
   "execution_count": 18,
   "metadata": {},
   "outputs": [],
   "source": [
    "pipe = make_pipeline(preprocessing, model_dt)"
   ]
  },
  {
   "cell_type": "code",
   "execution_count": 19,
   "metadata": {},
   "outputs": [
    {
     "data": {
      "text/html": [
       "<style>#sk-container-id-1 {color: black;}#sk-container-id-1 pre{padding: 0;}#sk-container-id-1 div.sk-toggleable {background-color: white;}#sk-container-id-1 label.sk-toggleable__label {cursor: pointer;display: block;width: 100%;margin-bottom: 0;padding: 0.3em;box-sizing: border-box;text-align: center;}#sk-container-id-1 label.sk-toggleable__label-arrow:before {content: \"▸\";float: left;margin-right: 0.25em;color: #696969;}#sk-container-id-1 label.sk-toggleable__label-arrow:hover:before {color: black;}#sk-container-id-1 div.sk-estimator:hover label.sk-toggleable__label-arrow:before {color: black;}#sk-container-id-1 div.sk-toggleable__content {max-height: 0;max-width: 0;overflow: hidden;text-align: left;background-color: #f0f8ff;}#sk-container-id-1 div.sk-toggleable__content pre {margin: 0.2em;color: black;border-radius: 0.25em;background-color: #f0f8ff;}#sk-container-id-1 input.sk-toggleable__control:checked~div.sk-toggleable__content {max-height: 200px;max-width: 100%;overflow: auto;}#sk-container-id-1 input.sk-toggleable__control:checked~label.sk-toggleable__label-arrow:before {content: \"▾\";}#sk-container-id-1 div.sk-estimator input.sk-toggleable__control:checked~label.sk-toggleable__label {background-color: #d4ebff;}#sk-container-id-1 div.sk-label input.sk-toggleable__control:checked~label.sk-toggleable__label {background-color: #d4ebff;}#sk-container-id-1 input.sk-hidden--visually {border: 0;clip: rect(1px 1px 1px 1px);clip: rect(1px, 1px, 1px, 1px);height: 1px;margin: -1px;overflow: hidden;padding: 0;position: absolute;width: 1px;}#sk-container-id-1 div.sk-estimator {font-family: monospace;background-color: #f0f8ff;border: 1px dotted black;border-radius: 0.25em;box-sizing: border-box;margin-bottom: 0.5em;}#sk-container-id-1 div.sk-estimator:hover {background-color: #d4ebff;}#sk-container-id-1 div.sk-parallel-item::after {content: \"\";width: 100%;border-bottom: 1px solid gray;flex-grow: 1;}#sk-container-id-1 div.sk-label:hover label.sk-toggleable__label {background-color: #d4ebff;}#sk-container-id-1 div.sk-serial::before {content: \"\";position: absolute;border-left: 1px solid gray;box-sizing: border-box;top: 0;bottom: 0;left: 50%;z-index: 0;}#sk-container-id-1 div.sk-serial {display: flex;flex-direction: column;align-items: center;background-color: white;padding-right: 0.2em;padding-left: 0.2em;position: relative;}#sk-container-id-1 div.sk-item {position: relative;z-index: 1;}#sk-container-id-1 div.sk-parallel {display: flex;align-items: stretch;justify-content: center;background-color: white;position: relative;}#sk-container-id-1 div.sk-item::before, #sk-container-id-1 div.sk-parallel-item::before {content: \"\";position: absolute;border-left: 1px solid gray;box-sizing: border-box;top: 0;bottom: 0;left: 50%;z-index: -1;}#sk-container-id-1 div.sk-parallel-item {display: flex;flex-direction: column;z-index: 1;position: relative;background-color: white;}#sk-container-id-1 div.sk-parallel-item:first-child::after {align-self: flex-end;width: 50%;}#sk-container-id-1 div.sk-parallel-item:last-child::after {align-self: flex-start;width: 50%;}#sk-container-id-1 div.sk-parallel-item:only-child::after {width: 0;}#sk-container-id-1 div.sk-dashed-wrapped {border: 1px dashed gray;margin: 0 0.4em 0.5em 0.4em;box-sizing: border-box;padding-bottom: 0.4em;background-color: white;}#sk-container-id-1 div.sk-label label {font-family: monospace;font-weight: bold;display: inline-block;line-height: 1.2em;}#sk-container-id-1 div.sk-label-container {text-align: center;}#sk-container-id-1 div.sk-container {/* jupyter's `normalize.less` sets `[hidden] { display: none; }` but bootstrap.min.css set `[hidden] { display: none !important; }` so we also need the `!important` here to be able to override the default hidden behavior on the sphinx rendered scikit-learn.org. See: https://github.com/scikit-learn/scikit-learn/issues/21755 */display: inline-block !important;position: relative;}#sk-container-id-1 div.sk-text-repr-fallback {display: none;}</style><div id=\"sk-container-id-1\" class=\"sk-top-container\"><div class=\"sk-text-repr-fallback\"><pre>Pipeline(steps=[(&#x27;columntransformer&#x27;,\n",
       "                 ColumnTransformer(remainder=&#x27;passthrough&#x27;,\n",
       "                                   transformers=[(&#x27;numerical&#x27;,\n",
       "                                                  Pipeline(steps=[(&#x27;impute_numerical&#x27;,\n",
       "                                                                   SimpleImputer())]),\n",
       "                                                  [&#x27;Age&#x27;]),\n",
       "                                                 (&#x27;categorical&#x27;,\n",
       "                                                  Pipeline(steps=[(&#x27;impute_numerical&#x27;,\n",
       "                                                                   SimpleImputer(strategy=&#x27;most_frequent&#x27;)),\n",
       "                                                                  (&#x27;encode_categorical&#x27;,\n",
       "                                                                   OrdinalEncoder())]),\n",
       "                                                  array([&#x27;Gender&#x27;, &#x27;Smoking&#x27;, &#x27;Hx Smoking&#x27;, &#x27;Hx Radiothreapy&#x27;,\n",
       "       &#x27;Thyroid Function&#x27;, &#x27;Physical Examination&#x27;, &#x27;Adenopathy&#x27;,\n",
       "       &#x27;Pathology&#x27;, &#x27;Focality&#x27;, &#x27;Risk&#x27;, &#x27;T&#x27;, &#x27;N&#x27;, &#x27;M&#x27;, &#x27;Stage&#x27;,\n",
       "       &#x27;Response&#x27;], dtype=&#x27;&lt;U20&#x27;))])),\n",
       "                (&#x27;decisiontreeclassifier&#x27;, DecisionTreeClassifier())])</pre><b>In a Jupyter environment, please rerun this cell to show the HTML representation or trust the notebook. <br />On GitHub, the HTML representation is unable to render, please try loading this page with nbviewer.org.</b></div><div class=\"sk-container\" hidden><div class=\"sk-item sk-dashed-wrapped\"><div class=\"sk-label-container\"><div class=\"sk-label sk-toggleable\"><input class=\"sk-toggleable__control sk-hidden--visually\" id=\"sk-estimator-id-1\" type=\"checkbox\" ><label for=\"sk-estimator-id-1\" class=\"sk-toggleable__label sk-toggleable__label-arrow\">Pipeline</label><div class=\"sk-toggleable__content\"><pre>Pipeline(steps=[(&#x27;columntransformer&#x27;,\n",
       "                 ColumnTransformer(remainder=&#x27;passthrough&#x27;,\n",
       "                                   transformers=[(&#x27;numerical&#x27;,\n",
       "                                                  Pipeline(steps=[(&#x27;impute_numerical&#x27;,\n",
       "                                                                   SimpleImputer())]),\n",
       "                                                  [&#x27;Age&#x27;]),\n",
       "                                                 (&#x27;categorical&#x27;,\n",
       "                                                  Pipeline(steps=[(&#x27;impute_numerical&#x27;,\n",
       "                                                                   SimpleImputer(strategy=&#x27;most_frequent&#x27;)),\n",
       "                                                                  (&#x27;encode_categorical&#x27;,\n",
       "                                                                   OrdinalEncoder())]),\n",
       "                                                  array([&#x27;Gender&#x27;, &#x27;Smoking&#x27;, &#x27;Hx Smoking&#x27;, &#x27;Hx Radiothreapy&#x27;,\n",
       "       &#x27;Thyroid Function&#x27;, &#x27;Physical Examination&#x27;, &#x27;Adenopathy&#x27;,\n",
       "       &#x27;Pathology&#x27;, &#x27;Focality&#x27;, &#x27;Risk&#x27;, &#x27;T&#x27;, &#x27;N&#x27;, &#x27;M&#x27;, &#x27;Stage&#x27;,\n",
       "       &#x27;Response&#x27;], dtype=&#x27;&lt;U20&#x27;))])),\n",
       "                (&#x27;decisiontreeclassifier&#x27;, DecisionTreeClassifier())])</pre></div></div></div><div class=\"sk-serial\"><div class=\"sk-item sk-dashed-wrapped\"><div class=\"sk-label-container\"><div class=\"sk-label sk-toggleable\"><input class=\"sk-toggleable__control sk-hidden--visually\" id=\"sk-estimator-id-2\" type=\"checkbox\" ><label for=\"sk-estimator-id-2\" class=\"sk-toggleable__label sk-toggleable__label-arrow\">columntransformer: ColumnTransformer</label><div class=\"sk-toggleable__content\"><pre>ColumnTransformer(remainder=&#x27;passthrough&#x27;,\n",
       "                  transformers=[(&#x27;numerical&#x27;,\n",
       "                                 Pipeline(steps=[(&#x27;impute_numerical&#x27;,\n",
       "                                                  SimpleImputer())]),\n",
       "                                 [&#x27;Age&#x27;]),\n",
       "                                (&#x27;categorical&#x27;,\n",
       "                                 Pipeline(steps=[(&#x27;impute_numerical&#x27;,\n",
       "                                                  SimpleImputer(strategy=&#x27;most_frequent&#x27;)),\n",
       "                                                 (&#x27;encode_categorical&#x27;,\n",
       "                                                  OrdinalEncoder())]),\n",
       "                                 array([&#x27;Gender&#x27;, &#x27;Smoking&#x27;, &#x27;Hx Smoking&#x27;, &#x27;Hx Radiothreapy&#x27;,\n",
       "       &#x27;Thyroid Function&#x27;, &#x27;Physical Examination&#x27;, &#x27;Adenopathy&#x27;,\n",
       "       &#x27;Pathology&#x27;, &#x27;Focality&#x27;, &#x27;Risk&#x27;, &#x27;T&#x27;, &#x27;N&#x27;, &#x27;M&#x27;, &#x27;Stage&#x27;,\n",
       "       &#x27;Response&#x27;], dtype=&#x27;&lt;U20&#x27;))])</pre></div></div></div><div class=\"sk-parallel\"><div class=\"sk-parallel-item\"><div class=\"sk-item\"><div class=\"sk-label-container\"><div class=\"sk-label sk-toggleable\"><input class=\"sk-toggleable__control sk-hidden--visually\" id=\"sk-estimator-id-3\" type=\"checkbox\" ><label for=\"sk-estimator-id-3\" class=\"sk-toggleable__label sk-toggleable__label-arrow\">numerical</label><div class=\"sk-toggleable__content\"><pre>[&#x27;Age&#x27;]</pre></div></div></div><div class=\"sk-serial\"><div class=\"sk-item\"><div class=\"sk-serial\"><div class=\"sk-item\"><div class=\"sk-estimator sk-toggleable\"><input class=\"sk-toggleable__control sk-hidden--visually\" id=\"sk-estimator-id-4\" type=\"checkbox\" ><label for=\"sk-estimator-id-4\" class=\"sk-toggleable__label sk-toggleable__label-arrow\">SimpleImputer</label><div class=\"sk-toggleable__content\"><pre>SimpleImputer()</pre></div></div></div></div></div></div></div></div><div class=\"sk-parallel-item\"><div class=\"sk-item\"><div class=\"sk-label-container\"><div class=\"sk-label sk-toggleable\"><input class=\"sk-toggleable__control sk-hidden--visually\" id=\"sk-estimator-id-5\" type=\"checkbox\" ><label for=\"sk-estimator-id-5\" class=\"sk-toggleable__label sk-toggleable__label-arrow\">categorical</label><div class=\"sk-toggleable__content\"><pre>[&#x27;Gender&#x27; &#x27;Smoking&#x27; &#x27;Hx Smoking&#x27; &#x27;Hx Radiothreapy&#x27; &#x27;Thyroid Function&#x27;\n",
       " &#x27;Physical Examination&#x27; &#x27;Adenopathy&#x27; &#x27;Pathology&#x27; &#x27;Focality&#x27; &#x27;Risk&#x27; &#x27;T&#x27; &#x27;N&#x27;\n",
       " &#x27;M&#x27; &#x27;Stage&#x27; &#x27;Response&#x27;]</pre></div></div></div><div class=\"sk-serial\"><div class=\"sk-item\"><div class=\"sk-serial\"><div class=\"sk-item\"><div class=\"sk-estimator sk-toggleable\"><input class=\"sk-toggleable__control sk-hidden--visually\" id=\"sk-estimator-id-6\" type=\"checkbox\" ><label for=\"sk-estimator-id-6\" class=\"sk-toggleable__label sk-toggleable__label-arrow\">SimpleImputer</label><div class=\"sk-toggleable__content\"><pre>SimpleImputer(strategy=&#x27;most_frequent&#x27;)</pre></div></div></div><div class=\"sk-item\"><div class=\"sk-estimator sk-toggleable\"><input class=\"sk-toggleable__control sk-hidden--visually\" id=\"sk-estimator-id-7\" type=\"checkbox\" ><label for=\"sk-estimator-id-7\" class=\"sk-toggleable__label sk-toggleable__label-arrow\">OrdinalEncoder</label><div class=\"sk-toggleable__content\"><pre>OrdinalEncoder()</pre></div></div></div></div></div></div></div></div><div class=\"sk-parallel-item\"><div class=\"sk-item\"><div class=\"sk-label-container\"><div class=\"sk-label sk-toggleable\"><input class=\"sk-toggleable__control sk-hidden--visually\" id=\"sk-estimator-id-8\" type=\"checkbox\" ><label for=\"sk-estimator-id-8\" class=\"sk-toggleable__label sk-toggleable__label-arrow\">remainder</label><div class=\"sk-toggleable__content\"><pre>[]</pre></div></div></div><div class=\"sk-serial\"><div class=\"sk-item\"><div class=\"sk-estimator sk-toggleable\"><input class=\"sk-toggleable__control sk-hidden--visually\" id=\"sk-estimator-id-9\" type=\"checkbox\" ><label for=\"sk-estimator-id-9\" class=\"sk-toggleable__label sk-toggleable__label-arrow\">passthrough</label><div class=\"sk-toggleable__content\"><pre>passthrough</pre></div></div></div></div></div></div></div></div><div class=\"sk-item\"><div class=\"sk-estimator sk-toggleable\"><input class=\"sk-toggleable__control sk-hidden--visually\" id=\"sk-estimator-id-10\" type=\"checkbox\" ><label for=\"sk-estimator-id-10\" class=\"sk-toggleable__label sk-toggleable__label-arrow\">DecisionTreeClassifier</label><div class=\"sk-toggleable__content\"><pre>DecisionTreeClassifier()</pre></div></div></div></div></div></div></div>"
      ],
      "text/plain": [
       "Pipeline(steps=[('columntransformer',\n",
       "                 ColumnTransformer(remainder='passthrough',\n",
       "                                   transformers=[('numerical',\n",
       "                                                  Pipeline(steps=[('impute_numerical',\n",
       "                                                                   SimpleImputer())]),\n",
       "                                                  ['Age']),\n",
       "                                                 ('categorical',\n",
       "                                                  Pipeline(steps=[('impute_numerical',\n",
       "                                                                   SimpleImputer(strategy='most_frequent')),\n",
       "                                                                  ('encode_categorical',\n",
       "                                                                   OrdinalEncoder())]),\n",
       "                                                  array(['Gender', 'Smoking', 'Hx Smoking', 'Hx Radiothreapy',\n",
       "       'Thyroid Function', 'Physical Examination', 'Adenopathy',\n",
       "       'Pathology', 'Focality', 'Risk', 'T', 'N', 'M', 'Stage',\n",
       "       'Response'], dtype='<U20'))])),\n",
       "                ('decisiontreeclassifier', DecisionTreeClassifier())])"
      ]
     },
     "execution_count": 19,
     "metadata": {},
     "output_type": "execute_result"
    }
   ],
   "source": [
    "pipe.fit(X_train, y_train)"
   ]
  },
  {
   "cell_type": "code",
   "execution_count": 20,
   "metadata": {},
   "outputs": [],
   "source": [
    "y_pred = pipe.predict(X_test)"
   ]
  },
  {
   "cell_type": "code",
   "execution_count": 21,
   "metadata": {},
   "outputs": [
    {
     "name": "stdout",
     "output_type": "stream",
     "text": [
      "              precision    recall  f1-score   support\n",
      "\n",
      "          No       0.95      0.96      0.96        57\n",
      "         Yes       0.89      0.85      0.87        20\n",
      "\n",
      "    accuracy                           0.94        77\n",
      "   macro avg       0.92      0.91      0.91        77\n",
      "weighted avg       0.93      0.94      0.93        77\n",
      "\n"
     ]
    }
   ],
   "source": [
    "print(classification_report(y_pred, y_test))"
   ]
  }
 ],
 "metadata": {
  "kernelspec": {
   "display_name": "Python 3",
   "language": "python",
   "name": "python3"
  },
  "language_info": {
   "codemirror_mode": {
    "name": "ipython",
    "version": 3
   },
   "file_extension": ".py",
   "mimetype": "text/x-python",
   "name": "python",
   "nbconvert_exporter": "python",
   "pygments_lexer": "ipython3",
   "version": "3.11.4"
  }
 },
 "nbformat": 4,
 "nbformat_minor": 2
}
